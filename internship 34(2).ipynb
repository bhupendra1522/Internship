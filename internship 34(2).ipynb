{
 "cells": [
  {
   "cell_type": "markdown",
   "id": "68f8558d",
   "metadata": {},
   "source": [
    "# Using selenium Web Scraping Data"
   ]
  },
  {
   "cell_type": "markdown",
   "id": "be01f75d",
   "metadata": {},
   "source": [
    "!pip install selenium"
   ]
  },
  {
   "cell_type": "code",
   "execution_count": 41,
   "id": "658e2899",
   "metadata": {},
   "outputs": [],
   "source": [
    "import selenium\n",
    "import pandas as pd\n",
    "from selenium import webdriver\n",
    "import warnings\n",
    "warnings.filterwarnings('ignore')\n",
    "from selenium.common.exceptions import StaleElementReferenceException, NoSuchElementException\n",
    "from selenium.webdriver.common.by import By\n",
    "import time\n"
   ]
  },
  {
   "cell_type": "raw",
   "id": "58178005",
   "metadata": {},
   "source": [
    "Now we will download the webDriver for the Web Browser, Steps for download are\n",
    "\n",
    "1 Check the version of your browser\n",
    "2 go to the link https://chromedriver.chromium.org/downloads \n",
    "3 Download the webdriver for your version of your browser."
   ]
  },
  {
   "cell_type": "code",
   "execution_count": 3,
   "id": "dab9162d",
   "metadata": {},
   "outputs": [],
   "source": [
    "# let first coonnect to the driver-\n",
    "driver=webdriver.Chrome(r\"C:\\Users\\Jainil iptesh Bariya\\Downloads\\chromedriver_win32\\chromedriver.exe\")"
   ]
  },
  {
   "cell_type": "code",
   "execution_count": 4,
   "id": "4c5ba283",
   "metadata": {},
   "outputs": [],
   "source": [
    "# second mathod to connect web driver\n",
    "# lets first connect to the driver-\n",
    "#driver=webdriver.Chrome(r\"chromedriver.exe\") # C is ca[pital]\n"
   ]
  },
  {
   "cell_type": "code",
   "execution_count": 6,
   "id": "5727be4f",
   "metadata": {},
   "outputs": [],
   "source": [
    "# openning page on automated chrome mathod\n",
    "\n",
    "driver.get(\"https://www.naukri.com/\")"
   ]
  },
  {
   "cell_type": "code",
   "execution_count": 9,
   "id": "7f78b88e",
   "metadata": {},
   "outputs": [],
   "source": [
    "# entering designation and location as required in the question\n",
    "\n",
    "designation=driver.find_element(By.CLASS_NAME,\"suggestor-input\")\n",
    "designation.send_keys('Data Analyst')"
   ]
  },
  {
   "cell_type": "code",
   "execution_count": 10,
   "id": "65544885",
   "metadata": {},
   "outputs": [],
   "source": [
    "location=driver.find_element(By.XPATH,\"/html/body/div[1]/div[6]/div/div/div[5]/div/div/div/input\")\n",
    "location.send_keys(\"Banglore\")"
   ]
  },
  {
   "cell_type": "code",
   "execution_count": 11,
   "id": "dea69a37",
   "metadata": {},
   "outputs": [],
   "source": [
    "search=driver.find_element(By.CLASS_NAME,\"qsbSubmit\")\n",
    "search.click()"
   ]
  },
  {
   "cell_type": "code",
   "execution_count": 12,
   "id": "f99c3daf",
   "metadata": {},
   "outputs": [],
   "source": [
    "job_title=[]\n",
    "job_location=[]\n",
    "company_name=[]\n",
    "experience_required=[]"
   ]
  },
  {
   "cell_type": "code",
   "execution_count": 13,
   "id": "ac061460",
   "metadata": {},
   "outputs": [],
   "source": [
    "# scraping job title from the given page\n",
    "title_tags=driver.find_elements(By.XPATH,\"//a[@class='title fw500 ellipsis']\")\n",
    "for i in title_tags[0:10]:\n",
    "    title=i.text\n",
    "    job_title.append(title)\n",
    "    \n",
    "    \n",
    "# scraping job location from the given page\n",
    "location_tags=driver.find_elements(By.XPATH,\"//li[@class='fleft grey-text br2 placeHolderLi location']\")\n",
    "                                  \n",
    "for i in location_tags[0:10]:\n",
    "    location=i.text\n",
    "    job_location.append(location)\n",
    "    \n",
    "# scraping compny name from the web page\n",
    "\n",
    "compnay_tags=driver.find_elements(By.XPATH,\"//a[@class='subTitle ellipsis fleft']\")\n",
    "for i in compnay_tags[0:10]:\n",
    "    company=i.text\n",
    "    company_name.append(company)\n",
    "    \n",
    "# scraping given experience from the given page\n",
    "experience_tags=driver.find_elements(By.XPATH,\"//li[@class='fleft grey-text br2 placeHolderLi experience']//span\")\n",
    "for i in experience_tags[0:10]:\n",
    "    exp=i.text\n",
    "    experience_required.append(exp)\n",
    "    "
   ]
  },
  {
   "cell_type": "code",
   "execution_count": 14,
   "id": "58fe2d12",
   "metadata": {},
   "outputs": [
    {
     "name": "stdout",
     "output_type": "stream",
     "text": [
      "10 10 10 10\n"
     ]
    }
   ],
   "source": [
    "print(len(job_title),len(job_location),len(company_name),len(experience_required))"
   ]
  },
  {
   "cell_type": "code",
   "execution_count": 15,
   "id": "cf411f44",
   "metadata": {},
   "outputs": [
    {
     "data": {
      "text/html": [
       "<div>\n",
       "<style scoped>\n",
       "    .dataframe tbody tr th:only-of-type {\n",
       "        vertical-align: middle;\n",
       "    }\n",
       "\n",
       "    .dataframe tbody tr th {\n",
       "        vertical-align: top;\n",
       "    }\n",
       "\n",
       "    .dataframe thead th {\n",
       "        text-align: right;\n",
       "    }\n",
       "</style>\n",
       "<table border=\"1\" class=\"dataframe\">\n",
       "  <thead>\n",
       "    <tr style=\"text-align: right;\">\n",
       "      <th></th>\n",
       "      <th>Job_title</th>\n",
       "      <th>Job_location</th>\n",
       "      <th>Company_name</th>\n",
       "      <th>Exp_required</th>\n",
       "    </tr>\n",
       "  </thead>\n",
       "  <tbody>\n",
       "    <tr>\n",
       "      <th>0</th>\n",
       "      <td>Data Analyst</td>\n",
       "      <td>Bangalore/Bengaluru</td>\n",
       "      <td>Shell Pvt Ltd</td>\n",
       "      <td>2-5 Yrs</td>\n",
       "    </tr>\n",
       "    <tr>\n",
       "      <th>1</th>\n",
       "      <td>Data Analyst</td>\n",
       "      <td>Bangalore/Bengaluru</td>\n",
       "      <td>Shell Pvt Ltd</td>\n",
       "      <td>3-5 Yrs</td>\n",
       "    </tr>\n",
       "    <tr>\n",
       "      <th>2</th>\n",
       "      <td>Data Analyst</td>\n",
       "      <td>Bangalore/Bengaluru</td>\n",
       "      <td>Shell Pvt Ltd</td>\n",
       "      <td>2-5 Yrs</td>\n",
       "    </tr>\n",
       "    <tr>\n",
       "      <th>3</th>\n",
       "      <td>Sr. Data Analyst</td>\n",
       "      <td>Bangalore/Bengaluru</td>\n",
       "      <td>MM STAFFING CAREER CONSULTANTS PRIVATE LIMITED</td>\n",
       "      <td>5-8 Yrs</td>\n",
       "    </tr>\n",
       "    <tr>\n",
       "      <th>4</th>\n",
       "      <td>Senior Data Analyst II</td>\n",
       "      <td>Bangalore/Bengaluru</td>\n",
       "      <td>Flipkart</td>\n",
       "      <td>2-4 Yrs</td>\n",
       "    </tr>\n",
       "    <tr>\n",
       "      <th>5</th>\n",
       "      <td>Senior Data Management Analyst</td>\n",
       "      <td>Bangalore/Bengaluru</td>\n",
       "      <td>Wells Fargo</td>\n",
       "      <td>1-12 Yrs</td>\n",
       "    </tr>\n",
       "    <tr>\n",
       "      <th>6</th>\n",
       "      <td>Data Analyst</td>\n",
       "      <td>Bangalore/Bengaluru</td>\n",
       "      <td>MM STAFFING CAREER CONSULTANTS PRIVATE LIMITED</td>\n",
       "      <td>5-7 Yrs</td>\n",
       "    </tr>\n",
       "    <tr>\n",
       "      <th>7</th>\n",
       "      <td>Sr Data Analyst - Tableau</td>\n",
       "      <td>Bangalore/Bengaluru</td>\n",
       "      <td>S.A.W IT Services Pvt Ltd</td>\n",
       "      <td>2-5 Yrs</td>\n",
       "    </tr>\n",
       "    <tr>\n",
       "      <th>8</th>\n",
       "      <td>Project Data Analyst</td>\n",
       "      <td>Bangalore/Bengaluru</td>\n",
       "      <td>WSP</td>\n",
       "      <td>0-4 Yrs</td>\n",
       "    </tr>\n",
       "    <tr>\n",
       "      <th>9</th>\n",
       "      <td>Data Analyst, Business Analyst</td>\n",
       "      <td>Bangalore/Bengaluru(HSR Layout +1)</td>\n",
       "      <td>Clinilaunch Research Institute Llp</td>\n",
       "      <td>0-5 Yrs</td>\n",
       "    </tr>\n",
       "  </tbody>\n",
       "</table>\n",
       "</div>"
      ],
      "text/plain": [
       "                        Job_title                        Job_location  \\\n",
       "0                    Data Analyst                 Bangalore/Bengaluru   \n",
       "1                    Data Analyst                 Bangalore/Bengaluru   \n",
       "2                    Data Analyst                 Bangalore/Bengaluru   \n",
       "3                Sr. Data Analyst                 Bangalore/Bengaluru   \n",
       "4          Senior Data Analyst II                 Bangalore/Bengaluru   \n",
       "5  Senior Data Management Analyst                 Bangalore/Bengaluru   \n",
       "6                    Data Analyst                 Bangalore/Bengaluru   \n",
       "7       Sr Data Analyst - Tableau                 Bangalore/Bengaluru   \n",
       "8            Project Data Analyst                 Bangalore/Bengaluru   \n",
       "9  Data Analyst, Business Analyst  Bangalore/Bengaluru(HSR Layout +1)   \n",
       "\n",
       "                                     Company_name Exp_required  \n",
       "0                                   Shell Pvt Ltd      2-5 Yrs  \n",
       "1                                   Shell Pvt Ltd      3-5 Yrs  \n",
       "2                                   Shell Pvt Ltd      2-5 Yrs  \n",
       "3  MM STAFFING CAREER CONSULTANTS PRIVATE LIMITED      5-8 Yrs  \n",
       "4                                        Flipkart      2-4 Yrs  \n",
       "5                                     Wells Fargo     1-12 Yrs  \n",
       "6  MM STAFFING CAREER CONSULTANTS PRIVATE LIMITED      5-7 Yrs  \n",
       "7                       S.A.W IT Services Pvt Ltd      2-5 Yrs  \n",
       "8                                             WSP      0-4 Yrs  \n",
       "9              Clinilaunch Research Institute Llp      0-5 Yrs  "
      ]
     },
     "execution_count": 15,
     "metadata": {},
     "output_type": "execute_result"
    }
   ],
   "source": [
    "# creating the data frame from above data:\n",
    "df=pd.DataFrame({'Job_title':job_title,'Job_location':job_location,'Company_name':company_name,'Exp_required':experience_required})\n",
    "df"
   ]
  },
  {
   "cell_type": "code",
   "execution_count": 16,
   "id": "e06d0efa",
   "metadata": {},
   "outputs": [
    {
     "data": {
      "text/plain": [
       "[<selenium.webdriver.remote.webelement.WebElement (session=\"81338772fc95d4b0993e9779ffc0a8e6\", element=\"7a9b89ea-0c89-4ecf-8bf6-b679d5e3298f\")>,\n",
       " <selenium.webdriver.remote.webelement.WebElement (session=\"81338772fc95d4b0993e9779ffc0a8e6\", element=\"b77a2016-74e0-4ad3-82ec-da8db8214e5a\")>,\n",
       " <selenium.webdriver.remote.webelement.WebElement (session=\"81338772fc95d4b0993e9779ffc0a8e6\", element=\"d046fcfe-d07f-46d4-8ee2-26fddafb85fe\")>,\n",
       " <selenium.webdriver.remote.webelement.WebElement (session=\"81338772fc95d4b0993e9779ffc0a8e6\", element=\"8d83f1fb-97ce-432f-a88e-a8e9ab240221\")>]"
      ]
     },
     "execution_count": 16,
     "metadata": {},
     "output_type": "execute_result"
    }
   ],
   "source": [
    "# to fetch the url -\n",
    "url=driver.find_elements(By.XPATH,\"//a[@class='title fw500 ellipsis']\")\n",
    "url[0:4]"
   ]
  },
  {
   "cell_type": "code",
   "execution_count": 17,
   "id": "54fe9a92",
   "metadata": {},
   "outputs": [
    {
     "name": "stdout",
     "output_type": "stream",
     "text": [
      "https://www.naukri.com/job-listings-data-analyst-shell-pvt-ltd-bangalore-bengaluru-2-to-5-years-091222501110\n",
      "https://www.naukri.com/job-listings-data-analyst-shell-pvt-ltd-bangalore-bengaluru-3-to-5-years-091222501109\n",
      "https://www.naukri.com/job-listings-data-analyst-shell-pvt-ltd-bangalore-bengaluru-2-to-5-years-091222501111\n",
      "https://www.naukri.com/job-listings-sr-data-analyst-mm-staffing-career-consultants-private-limited-bangalore-bengaluru-5-to-8-years-081222503507\n"
     ]
    }
   ],
   "source": [
    "for i in url[0:4]: # lets provide range to print only top 4 data\n",
    "    print(i.get_attribute('href'))"
   ]
  },
  {
   "cell_type": "code",
   "execution_count": 18,
   "id": "0f73a564",
   "metadata": {},
   "outputs": [
    {
     "name": "stdout",
     "output_type": "stream",
     "text": [
      "https://www.naukri.com/job-listings-data-analyst-shell-pvt-ltd-bangalore-bengaluru-2-to-5-years-091222501110\n",
      "https://www.naukri.com/job-listings-data-analyst-shell-pvt-ltd-bangalore-bengaluru-3-to-5-years-091222501109\n",
      "https://www.naukri.com/job-listings-data-analyst-shell-pvt-ltd-bangalore-bengaluru-2-to-5-years-091222501111\n",
      "https://www.naukri.com/job-listings-sr-data-analyst-mm-staffing-career-consultants-private-limited-bangalore-bengaluru-5-to-8-years-081222503507\n",
      "https://www.naukri.com/job-listings-senior-data-analyst-ii-flipkart-internet-private-limited-bangalore-bengaluru-2-to-4-years-051222905310\n",
      "https://www.naukri.com/job-listings-senior-data-management-analyst-wells-fargo-india-solutions-pvt-ltd-bangalore-bengaluru-1-to-12-years-081222502420\n",
      "https://www.naukri.com/job-listings-data-analyst-mm-staffing-career-consultants-private-limited-bangalore-bengaluru-5-to-7-years-081222503253\n",
      "https://www.naukri.com/job-listings-sr-data-analyst-tableau-s-a-w-it-services-pvt-ltd-bangalore-bengaluru-2-to-5-years-081222912936\n",
      "https://www.naukri.com/job-listings-project-data-analyst-wsp-bangalore-bengaluru-0-to-4-years-061222010759\n",
      "https://www.naukri.com/job-listings-data-analyst-business-analyst-clinilaunch-research-institute-llp-bangalore-bengaluru-0-to-5-years-051222000953\n"
     ]
    }
   ],
   "source": [
    "for i in url[0:10]: # lets provide range to print only top 4 data\n",
    "    print(i.get_attribute('href'))"
   ]
  },
  {
   "cell_type": "code",
   "execution_count": 19,
   "id": "674a028f",
   "metadata": {},
   "outputs": [],
   "source": [
    "job_titles=[]"
   ]
  },
  {
   "cell_type": "code",
   "execution_count": 20,
   "id": "0f7d00cf",
   "metadata": {},
   "outputs": [],
   "source": [
    "start=0\n",
    "end=2\n",
    "for page in range(start,end):\n",
    "    titles=driver.find_elements(By.XPATH,\"//a[@class='title fw500 ellipsis']\")\n",
    "    for i in titles:\n",
    "        job_titles.append(i.text)\n",
    "    next_button=driver.find_element(By.XPATH,'//a[@class=\"fright fs14 btn-secondary br2\"]') # to scrap data from next page\n",
    "    next_button.click()\n",
    "    time.sleep(3)\n",
    "    "
   ]
  },
  {
   "cell_type": "code",
   "execution_count": 21,
   "id": "1c09afbe",
   "metadata": {},
   "outputs": [
    {
     "data": {
      "text/plain": [
       "40"
      ]
     },
     "execution_count": 21,
     "metadata": {},
     "output_type": "execute_result"
    }
   ],
   "source": [
    "len(job_titles)"
   ]
  },
  {
   "cell_type": "code",
   "execution_count": 22,
   "id": "ea316d63",
   "metadata": {},
   "outputs": [
    {
     "data": {
      "text/plain": [
       "['Data Analyst',\n",
       " 'Data Analyst',\n",
       " 'Data Analyst',\n",
       " 'Sr. Data Analyst',\n",
       " 'Senior Data Analyst II',\n",
       " 'Senior Data Management Analyst',\n",
       " 'Data Analyst',\n",
       " 'Sr Data Analyst - Tableau',\n",
       " 'Project Data Analyst',\n",
       " 'Data Analyst, Business Analyst',\n",
       " 'Senior Data Analyst',\n",
       " 'Sr Data Analyst',\n",
       " 'Data Analyst',\n",
       " 'Executive - Data Analyst',\n",
       " 'Data Analyst - Power BI',\n",
       " 'Data Analyst',\n",
       " 'Data Analyst',\n",
       " 'Data Analyst',\n",
       " 'Data Analyst',\n",
       " 'Data Analyst I',\n",
       " 'Data Analyst',\n",
       " 'Data Analyst / Product Analyst / Business Analyst',\n",
       " 'Senior Data Analyst - Data Modeling/Quality',\n",
       " 'Data Analyst',\n",
       " 'Data Analyst',\n",
       " 'Senior Data Analyst | Neiman Marcus Group',\n",
       " 'Senior Data Analyst',\n",
       " 'Sr . Data Analyst',\n",
       " 'data analyst / data analytics - US MNC (analytics)',\n",
       " 'Customer Master Data Analyst (SAP SD/MM)',\n",
       " 'Senior Analyst - Data Management',\n",
       " 'Data Analyst - CRM Platform',\n",
       " 'Data Analyst',\n",
       " 'Data Analyst',\n",
       " 'Data Analyst',\n",
       " 'Data Analyst - SQL',\n",
       " 'Data Analyst',\n",
       " 'Data Analyst - GAMMA',\n",
       " 'Business Data Analyst 1',\n",
       " 'Senior Data Analyst']"
      ]
     },
     "execution_count": 22,
     "metadata": {},
     "output_type": "execute_result"
    }
   ],
   "source": [
    "job_titles"
   ]
  },
  {
   "cell_type": "markdown",
   "id": "5003d9ca",
   "metadata": {},
   "source": [
    "# Using Selenium Flipkart Sunglass Data"
   ]
  },
  {
   "cell_type": "code",
   "execution_count": 23,
   "id": "5477b464",
   "metadata": {},
   "outputs": [],
   "source": [
    "# openning page on automated chrome mathod\n",
    "\n",
    "driver.get(\"https://www.flipkart.com/\")"
   ]
  },
  {
   "cell_type": "code",
   "execution_count": 27,
   "id": "88182b9f",
   "metadata": {},
   "outputs": [],
   "source": [
    "eyewear=driver.find_element(By.CLASS_NAME,\"_3704LK\")\n",
    "eyewear.send_keys('sunglasses')"
   ]
  },
  {
   "cell_type": "code",
   "execution_count": 29,
   "id": "e6bd3a05",
   "metadata": {},
   "outputs": [],
   "source": [
    "brand_name=driver.find_element(By.XPATH,\"/html/body/div[1]/div/div[1]/div[1]/div[2]/div[2]/form/div/div/input\")\n",
    "brand_name.send_keys(\"sunglasses\")"
   ]
  },
  {
   "cell_type": "code",
   "execution_count": 33,
   "id": "7c4dfbdd",
   "metadata": {},
   "outputs": [],
   "source": [
    "eyewear_title=[]\n",
    "eyewear_price=[]\n",
    "company_name=[]\n",
    "discount_required=[]"
   ]
  },
  {
   "cell_type": "code",
   "execution_count": 37,
   "id": "6c6fdc1f",
   "metadata": {},
   "outputs": [
    {
     "ename": "WebDriverException",
     "evalue": "Message: disconnected: unable to send message to renderer\n  (failed to check if window was closed: disconnected: unable to connect to renderer)\n  (Session info: chrome=108.0.5359.99)\nStacktrace:\nBacktrace:\n\t(No symbol) [0x0065F243]\n\t(No symbol) [0x005E7FD1]\n\t(No symbol) [0x004DD04D]\n\t(No symbol) [0x004CE9F0]\n\t(No symbol) [0x004CEEF7]\n\t(No symbol) [0x004E5F54]\n\t(No symbol) [0x004DF82B]\n\t(No symbol) [0x004DF350]\n\t(No symbol) [0x004DFBA2]\n\t(No symbol) [0x004DFE80]\n\t(No symbol) [0x0050BD55]\n\t(No symbol) [0x0050C22B]\n\t(No symbol) [0x0053E64C]\n\t(No symbol) [0x005285D4]\n\t(No symbol) [0x0053C9EB]\n\t(No symbol) [0x00528386]\n\t(No symbol) [0x0050163C]\n\t(No symbol) [0x0050269D]\n\tGetHandleVerifier [0x008F9A22+2655074]\n\tGetHandleVerifier [0x008ECA24+2601828]\n\tGetHandleVerifier [0x00708C0A+619850]\n\tGetHandleVerifier [0x00707830+614768]\n\t(No symbol) [0x005F05FC]\n\t(No symbol) [0x005F5968]\n\t(No symbol) [0x005F5A55]\n\t(No symbol) [0x0060051B]\n\tBaseThreadInitThunk [0x77096739+25]\n\tRtlGetFullPathName_UEx [0x77C78FD2+1218]\n\tRtlGetFullPathName_UEx [0x77C78F9D+1165]\n",
     "output_type": "error",
     "traceback": [
      "\u001b[1;31m---------------------------------------------------------------------------\u001b[0m",
      "\u001b[1;31mWebDriverException\u001b[0m                        Traceback (most recent call last)",
      "Input \u001b[1;32mIn [37]\u001b[0m, in \u001b[0;36m<cell line: 2>\u001b[1;34m()\u001b[0m\n\u001b[0;32m      1\u001b[0m \u001b[38;5;66;03m# scraping job title from the given page\u001b[39;00m\n\u001b[1;32m----> 2\u001b[0m title_tags\u001b[38;5;241m=\u001b[39m\u001b[43mdriver\u001b[49m\u001b[38;5;241;43m.\u001b[39;49m\u001b[43mfind_elements\u001b[49m\u001b[43m(\u001b[49m\u001b[43mBy\u001b[49m\u001b[38;5;241;43m.\u001b[39;49m\u001b[43mXPATH\u001b[49m\u001b[43m,\u001b[49m\u001b[38;5;124;43m\"\u001b[39;49m\u001b[38;5;124;43m//a[@class=\u001b[39;49m\u001b[38;5;124;43m'\u001b[39;49m\u001b[38;5;124;43mIRpwTa\u001b[39;49m\u001b[38;5;124;43m'\u001b[39;49m\u001b[38;5;124;43m]\u001b[39;49m\u001b[38;5;124;43m\"\u001b[39;49m\u001b[43m)\u001b[49m\n\u001b[0;32m      3\u001b[0m \u001b[38;5;28;01mfor\u001b[39;00m i \u001b[38;5;129;01min\u001b[39;00m title_tags[\u001b[38;5;241m0\u001b[39m:\u001b[38;5;241m10\u001b[39m]:\n\u001b[0;32m      4\u001b[0m     title\u001b[38;5;241m=\u001b[39mi\u001b[38;5;241m.\u001b[39mtext\n",
      "File \u001b[1;32mE:\\bhupendra\\lib\\site-packages\\selenium\\webdriver\\remote\\webdriver.py:892\u001b[0m, in \u001b[0;36mWebDriver.find_elements\u001b[1;34m(self, by, value)\u001b[0m\n\u001b[0;32m    888\u001b[0m     value \u001b[38;5;241m=\u001b[39m \u001b[38;5;124m'\u001b[39m\u001b[38;5;124m[name=\u001b[39m\u001b[38;5;124m\"\u001b[39m\u001b[38;5;132;01m%s\u001b[39;00m\u001b[38;5;124m\"\u001b[39m\u001b[38;5;124m]\u001b[39m\u001b[38;5;124m'\u001b[39m \u001b[38;5;241m%\u001b[39m value\n\u001b[0;32m    890\u001b[0m \u001b[38;5;66;03m# Return empty list if driver returns null\u001b[39;00m\n\u001b[0;32m    891\u001b[0m \u001b[38;5;66;03m# See https://github.com/SeleniumHQ/selenium/issues/4555\u001b[39;00m\n\u001b[1;32m--> 892\u001b[0m \u001b[38;5;28;01mreturn\u001b[39;00m \u001b[38;5;28;43mself\u001b[39;49m\u001b[38;5;241;43m.\u001b[39;49m\u001b[43mexecute\u001b[49m\u001b[43m(\u001b[49m\u001b[43mCommand\u001b[49m\u001b[38;5;241;43m.\u001b[39;49m\u001b[43mFIND_ELEMENTS\u001b[49m\u001b[43m,\u001b[49m\u001b[43m \u001b[49m\u001b[43m{\u001b[49m\u001b[38;5;124;43m\"\u001b[39;49m\u001b[38;5;124;43musing\u001b[39;49m\u001b[38;5;124;43m\"\u001b[39;49m\u001b[43m:\u001b[49m\u001b[43m \u001b[49m\u001b[43mby\u001b[49m\u001b[43m,\u001b[49m\u001b[43m \u001b[49m\u001b[38;5;124;43m\"\u001b[39;49m\u001b[38;5;124;43mvalue\u001b[39;49m\u001b[38;5;124;43m\"\u001b[39;49m\u001b[43m:\u001b[49m\u001b[43m \u001b[49m\u001b[43mvalue\u001b[49m\u001b[43m}\u001b[49m\u001b[43m)\u001b[49m[\u001b[38;5;124m\"\u001b[39m\u001b[38;5;124mvalue\u001b[39m\u001b[38;5;124m\"\u001b[39m] \u001b[38;5;129;01mor\u001b[39;00m []\n",
      "File \u001b[1;32mE:\\bhupendra\\lib\\site-packages\\selenium\\webdriver\\remote\\webdriver.py:444\u001b[0m, in \u001b[0;36mWebDriver.execute\u001b[1;34m(self, driver_command, params)\u001b[0m\n\u001b[0;32m    442\u001b[0m response \u001b[38;5;241m=\u001b[39m \u001b[38;5;28mself\u001b[39m\u001b[38;5;241m.\u001b[39mcommand_executor\u001b[38;5;241m.\u001b[39mexecute(driver_command, params)\n\u001b[0;32m    443\u001b[0m \u001b[38;5;28;01mif\u001b[39;00m response:\n\u001b[1;32m--> 444\u001b[0m     \u001b[38;5;28;43mself\u001b[39;49m\u001b[38;5;241;43m.\u001b[39;49m\u001b[43merror_handler\u001b[49m\u001b[38;5;241;43m.\u001b[39;49m\u001b[43mcheck_response\u001b[49m\u001b[43m(\u001b[49m\u001b[43mresponse\u001b[49m\u001b[43m)\u001b[49m\n\u001b[0;32m    445\u001b[0m     response[\u001b[38;5;124m\"\u001b[39m\u001b[38;5;124mvalue\u001b[39m\u001b[38;5;124m\"\u001b[39m] \u001b[38;5;241m=\u001b[39m \u001b[38;5;28mself\u001b[39m\u001b[38;5;241m.\u001b[39m_unwrap_value(response\u001b[38;5;241m.\u001b[39mget(\u001b[38;5;124m\"\u001b[39m\u001b[38;5;124mvalue\u001b[39m\u001b[38;5;124m\"\u001b[39m, \u001b[38;5;28;01mNone\u001b[39;00m))\n\u001b[0;32m    446\u001b[0m     \u001b[38;5;28;01mreturn\u001b[39;00m response\n",
      "File \u001b[1;32mE:\\bhupendra\\lib\\site-packages\\selenium\\webdriver\\remote\\errorhandler.py:249\u001b[0m, in \u001b[0;36mErrorHandler.check_response\u001b[1;34m(self, response)\u001b[0m\n\u001b[0;32m    247\u001b[0m         alert_text \u001b[38;5;241m=\u001b[39m value[\u001b[38;5;124m\"\u001b[39m\u001b[38;5;124malert\u001b[39m\u001b[38;5;124m\"\u001b[39m]\u001b[38;5;241m.\u001b[39mget(\u001b[38;5;124m\"\u001b[39m\u001b[38;5;124mtext\u001b[39m\u001b[38;5;124m\"\u001b[39m)\n\u001b[0;32m    248\u001b[0m     \u001b[38;5;28;01mraise\u001b[39;00m exception_class(message, screen, stacktrace, alert_text)  \u001b[38;5;66;03m# type: ignore[call-arg]  # mypy is not smart enough here\u001b[39;00m\n\u001b[1;32m--> 249\u001b[0m \u001b[38;5;28;01mraise\u001b[39;00m exception_class(message, screen, stacktrace)\n",
      "\u001b[1;31mWebDriverException\u001b[0m: Message: disconnected: unable to send message to renderer\n  (failed to check if window was closed: disconnected: unable to connect to renderer)\n  (Session info: chrome=108.0.5359.99)\nStacktrace:\nBacktrace:\n\t(No symbol) [0x0065F243]\n\t(No symbol) [0x005E7FD1]\n\t(No symbol) [0x004DD04D]\n\t(No symbol) [0x004CE9F0]\n\t(No symbol) [0x004CEEF7]\n\t(No symbol) [0x004E5F54]\n\t(No symbol) [0x004DF82B]\n\t(No symbol) [0x004DF350]\n\t(No symbol) [0x004DFBA2]\n\t(No symbol) [0x004DFE80]\n\t(No symbol) [0x0050BD55]\n\t(No symbol) [0x0050C22B]\n\t(No symbol) [0x0053E64C]\n\t(No symbol) [0x005285D4]\n\t(No symbol) [0x0053C9EB]\n\t(No symbol) [0x00528386]\n\t(No symbol) [0x0050163C]\n\t(No symbol) [0x0050269D]\n\tGetHandleVerifier [0x008F9A22+2655074]\n\tGetHandleVerifier [0x008ECA24+2601828]\n\tGetHandleVerifier [0x00708C0A+619850]\n\tGetHandleVerifier [0x00707830+614768]\n\t(No symbol) [0x005F05FC]\n\t(No symbol) [0x005F5968]\n\t(No symbol) [0x005F5A55]\n\t(No symbol) [0x0060051B]\n\tBaseThreadInitThunk [0x77096739+25]\n\tRtlGetFullPathName_UEx [0x77C78FD2+1218]\n\tRtlGetFullPathName_UEx [0x77C78F9D+1165]\n"
     ]
    }
   ],
   "source": [
    "# scraping job title from the given page\n",
    "title_tags=driver.find_elements(By.XPATH,\"//a[@class='IRpwTa']\")\n",
    "for i in title_tags[0:10]:\n",
    "    title=i.text\n",
    "    eyewear_title.append(title)\n",
    "    \n",
    "    \n",
    "# scraping job price from the given page\n",
    "price_tags=driver.find_elements(By.XPATH,\"//a[@class='_30jeq3']\")\n",
    "                                  \n",
    "for i in price_tags[0:10]:\n",
    "    price=i.text\n",
    "    eyewear_price.append(price)\n",
    "    \n",
    "# scraping compny name from the web page\n",
    "\n",
    "compnay_tags=driver.find_elements(By.XPATH,\"//a[@class='IRpwTa']\")\n",
    "for i in compnay_tags[0:10]:\n",
    "    company=i.text\n",
    "    company_name.append(company)\n",
    "    \n",
    "# scraping given dicount from the given page\n",
    "discount_tags=driver.find_elements(By.XPATH,\"//a[@class='_3bPFwb']//span\")\n",
    "for i in discount_tags[0:10]:\n",
    "    exp=i.text\n",
    "    discount_required.append(disc)\n",
    "    "
   ]
  },
  {
   "cell_type": "code",
   "execution_count": 39,
   "id": "49c58e51",
   "metadata": {},
   "outputs": [
    {
     "name": "stdout",
     "output_type": "stream",
     "text": [
      "[]\n"
     ]
    },
    {
     "data": {
      "text/plain": [
       "(None, 0, 0, 0)"
      ]
     },
     "execution_count": 39,
     "metadata": {},
     "output_type": "execute_result"
    }
   ],
   "source": [
    "print(eyewear_title),len(eyewear_price),len(company_name),len(discount_required)"
   ]
  },
  {
   "cell_type": "code",
   "execution_count": 40,
   "id": "b0127676",
   "metadata": {},
   "outputs": [
    {
     "data": {
      "text/html": [
       "<div>\n",
       "<style scoped>\n",
       "    .dataframe tbody tr th:only-of-type {\n",
       "        vertical-align: middle;\n",
       "    }\n",
       "\n",
       "    .dataframe tbody tr th {\n",
       "        vertical-align: top;\n",
       "    }\n",
       "\n",
       "    .dataframe thead th {\n",
       "        text-align: right;\n",
       "    }\n",
       "</style>\n",
       "<table border=\"1\" class=\"dataframe\">\n",
       "  <thead>\n",
       "    <tr style=\"text-align: right;\">\n",
       "      <th></th>\n",
       "      <th>Eyewear_title</th>\n",
       "      <th>Eyewear_price</th>\n",
       "      <th>Company_name</th>\n",
       "      <th>Disc_required</th>\n",
       "    </tr>\n",
       "  </thead>\n",
       "  <tbody>\n",
       "  </tbody>\n",
       "</table>\n",
       "</div>"
      ],
      "text/plain": [
       "Empty DataFrame\n",
       "Columns: [Eyewear_title, Eyewear_price, Company_name, Disc_required]\n",
       "Index: []"
      ]
     },
     "execution_count": 40,
     "metadata": {},
     "output_type": "execute_result"
    }
   ],
   "source": [
    "# creating the data frame from above data:\n",
    "df=pd.DataFrame({'Eyewear_title':eyewear_title,'Eyewear_price':eyewear_price,'Company_name':company_name,'Disc_required':discount_required})\n",
    "df"
   ]
  },
  {
   "cell_type": "code",
   "execution_count": null,
   "id": "e2c2df1a",
   "metadata": {},
   "outputs": [],
   "source": []
  }
 ],
 "metadata": {
  "kernelspec": {
   "display_name": "Python 3 (ipykernel)",
   "language": "python",
   "name": "python3"
  },
  "language_info": {
   "codemirror_mode": {
    "name": "ipython",
    "version": 3
   },
   "file_extension": ".py",
   "mimetype": "text/x-python",
   "name": "python",
   "nbconvert_exporter": "python",
   "pygments_lexer": "ipython3",
   "version": "3.9.12"
  }
 },
 "nbformat": 4,
 "nbformat_minor": 5
}
